{
 "cells": [
  {
   "cell_type": "code",
   "execution_count": 1,
   "id": "8ab4a87e-2ce6-47ab-9d55-1127e0341af7",
   "metadata": {},
   "outputs": [],
   "source": [
    "#https://www.kaggle.com/datasets/sunilthite/llm-detect-ai-generated-text-dataset \n",
    "import numpy as np\n",
    "import pandas as pd\n",
    "import torch\n",
    "torch.manual_seed(42) \n",
    "from transformers import logging\n",
    "logging.set_verbosity_error()\n",
    "import matplotlib.pyplot as plt"
   ]
  },
  {
   "cell_type": "code",
   "execution_count": 41,
   "id": "70f841e8-fec6-480e-80ff-95ea5f364099",
   "metadata": {},
   "outputs": [
    {
     "data": {
      "text/plain": [
       "generated\n",
       "0    16122\n",
       "1    11218\n",
       "Name: count, dtype: int64"
      ]
     },
     "execution_count": 41,
     "metadata": {},
     "output_type": "execute_result"
    }
   ],
   "source": [
    "df = pd.read_csv('AI_gen_text.csv')\n",
    "df.drop_duplicates(inplace=True,ignore_index=True)\n",
    "df.head\n",
    "df.generated.value_counts()\n"
   ]
  },
  {
   "cell_type": "code",
   "execution_count": 51,
   "id": "a7a03bcb-8bac-4f0f-986b-d3b74a73a742",
   "metadata": {},
   "outputs": [
    {
     "name": "stdout",
     "output_type": "stream",
     "text": [
      "Original dataset size: 27340\n",
      "Sampled dataset size: 5468\n",
      "Proportions preserved: generated\n",
      "0    0.589612\n",
      "1    0.410388\n",
      "Name: proportion, dtype: float64\n"
     ]
    }
   ],
   "source": [
    "# stratifying the dataset as it's quite large for my project \n",
    "from sklearn.model_selection import train_test_split\n",
    "import pandas as pd\n",
    "\n",
    "sample_size = 0.8\n",
    "\n",
    "df_sampled, _ = train_test_split(df, stratify=df['generated'], test_size=sample_size, random_state=42)\n",
    "\n",
    "print(f\"Original dataset size: {df.shape[0]}\")\n",
    "print(f\"Sampled dataset size: {df_sampled.shape[0]}\")\n",
    "print(\"Proportions preserved:\", df_sampled['generated'].value_counts(normalize=True))\n"
   ]
  },
  {
   "cell_type": "code",
   "execution_count": 88,
   "id": "833101ee-ac7e-4c95-95c4-bb46a0a51b36",
   "metadata": {},
   "outputs": [
    {
     "data": {
      "text/plain": [
       "generated\n",
       "0    3224\n",
       "1    2244\n",
       "Name: count, dtype: int64"
      ]
     },
     "execution_count": 88,
     "metadata": {},
     "output_type": "execute_result"
    }
   ],
   "source": [
    "df = df_sampled\n",
    "df.generated.value_counts()\n"
   ]
  },
  {
   "cell_type": "code",
   "execution_count": 77,
   "id": "6b53d713-3a70-4c51-a4b5-bb7b908be319",
   "metadata": {},
   "outputs": [
    {
     "data": {
      "text/plain": [
       "(493,)"
      ]
     },
     "execution_count": 77,
     "metadata": {},
     "output_type": "execute_result"
    }
   ],
   "source": [
    "# splitting into training and validation datasets with 0.09% of data dedicated to validation \n",
    "x_train, x_val, y_train, y_val = train_test_split(df.text, df.generated, test_size=0.09, random_state=42)\n",
    "x_train.shape\n",
    "x_val.shape"
   ]
  },
  {
   "cell_type": "code",
   "execution_count": 67,
   "id": "a1f191c5-9179-4e6a-b924-9d7ea055e044",
   "metadata": {},
   "outputs": [],
   "source": [
    "# I will use Tiny Bert pre-trained model \n",
    "from transformers import BertTokenizer, BertForSequenceClassification\n",
    "\n",
    "model_name = 'huawei-noah/TinyBERT_General_4L_312D'\n",
    "tinybert_tokenizer = BertTokenizer.from_pretrained(model_name)\n",
    "pretrained_tinybert = BertForSequenceClassification.from_pretrained(model_name, num_labels=2)"
   ]
  },
  {
   "cell_type": "code",
   "execution_count": 75,
   "id": "352bdd10-05cb-400e-a1ac-c5922deea5de",
   "metadata": {},
   "outputs": [],
   "source": [
    "# tuning the parameters \n",
    "for param in pretrained_tinybert.bert.parameters():\n",
    "    param.requires_grad = False\n",
    "\n",
    "for param in pretrained_tinybert.classifier.parameters():\n",
    "    param.requires_grad = True\n",
    "\n",
    "for param in pretrained_tinybert.bert.encoder.layer[3].parameters():\n",
    "    param.requires_grad = True"
   ]
  },
  {
   "cell_type": "code",
   "execution_count": 79,
   "id": "77efe00d-a50e-407e-9eec-9da2033f1bf4",
   "metadata": {},
   "outputs": [],
   "source": [
    "# tokenizing train data \n",
    "MAX_SEQ_LENGTH_TINYBERT = 124\n",
    "train_texts = x_train.tolist()\n",
    "train_labels = y_train.tolist()\n",
    "X_train = tinybert_tokenizer(train_texts, padding=True, truncation=True, return_tensors=\"pt\", max_length=MAX_SEQ_LENGTH_TINYBERT)\n",
    "y_train = torch.tensor(train_labels, dtype=torch.long)\n"
   ]
  },
  {
   "cell_type": "code",
   "execution_count": 81,
   "id": "86fc344a-6ee6-4298-a09a-39cc2dbd999b",
   "metadata": {},
   "outputs": [],
   "source": [
    "#creating loader object\n",
    "from torch.utils.data import DataLoader, TensorDataset\n",
    "train_dataset = TensorDataset(X_train['input_ids'], X_train['attention_mask'], y_train)\n",
    "train_loader = DataLoader(train_dataset, batch_size=16, shuffle=True)"
   ]
  },
  {
   "cell_type": "code",
   "execution_count": 83,
   "id": "e31d5df6-08a5-4f69-94d0-2dbc1fec5428",
   "metadata": {},
   "outputs": [],
   "source": [
    "# creating an optimizer with updated parameters \n",
    "import torch.nn as nn\n",
    "import torch.optim as optim\n",
    "\n",
    "optimizer = torch.optim.AdamW(filter(lambda p: p.requires_grad, pretrained_tinybert.parameters()), lr=0.0025)\n",
    "criterion = nn.CrossEntropyLoss()"
   ]
  },
  {
   "cell_type": "code",
   "execution_count": 85,
   "id": "a6e13ab8-c24f-4a21-9940-7edfd665945d",
   "metadata": {},
   "outputs": [
    {
     "name": "stdout",
     "output_type": "stream",
     "text": [
      "Epoch 1, Loss: 0.35713636954210193\n",
      "Epoch 2, Loss: 0.244379657778853\n",
      "Epoch 3, Loss: 0.20785543975986276\n",
      "Epoch 4, Loss: 0.18026139766990038\n",
      "Epoch 5, Loss: 0.1734779623495804\n",
      "Epoch 6, Loss: 0.17811991248603226\n"
     ]
    }
   ],
   "source": [
    "# training the model \n",
    "num_epochs = 6\n",
    "for epoch in range(num_epochs):\n",
    "    pretrained_tinybert.train()\n",
    "    total_loss = 0.0\n",
    "    \n",
    "    for batch_X, batch_attention_mask, batch_y in train_loader:\n",
    "        optimizer.zero_grad()\n",
    "        outputs = pretrained_tinybert(input_ids=batch_X, \n",
    "                                     attention_mask=batch_attention_mask)\n",
    "        logits = outputs.logits\n",
    "        loss = criterion(logits, batch_y)\n",
    "        total_loss += loss.item()\n",
    "        loss.backward()\n",
    "        optimizer.step()\n",
    "    \n",
    "    avg_loss = total_loss / len(train_loader)\n",
    "    print(f'Epoch {epoch+1}, Loss: {avg_loss}')"
   ]
  },
  {
   "cell_type": "code",
   "execution_count": 90,
   "id": "eea9b4e9-335d-4798-b2bf-bebbbcaf6d01",
   "metadata": {},
   "outputs": [],
   "source": [
    "# object of validation data \n",
    "val_texts = x_test.tolist()\n",
    "val_labels = y_test.tolist()\n",
    "X_val = tinybert_tokenizer(val_texts, padding=True, truncation=True, return_tensors=\"pt\", max_length=MAX_SEQ_LENGTH_TINYBERT)\n",
    "y_val = torch.tensor(val_labels, dtype=torch.long)\n",
    "val_dataset = TensorDataset(X_val['input_ids'], X_val['attention_mask'], y_val)\n",
    "val_loader = DataLoader(val_dataset, batch_size=16, shuffle=False)"
   ]
  },
  {
   "cell_type": "code",
   "execution_count": 92,
   "id": "0a54488b-423d-47aa-b975-eb51edce127d",
   "metadata": {},
   "outputs": [
    {
     "name": "stdout",
     "output_type": "stream",
     "text": [
      "Predicted probabilities for observation #1: [0.9907933  0.00920668]\n",
      "First 10 Predicted labels: [0, 0, 1, 0, 1, 0, 0, 0, 0, 0]\n",
      "First 10 True labels:      [0, 0, 1, 0, 0, 0, 1, 0, 0, 0]\n"
     ]
    }
   ],
   "source": [
    "# getting predictions \n",
    "from sklearn.metrics import confusion_matrix, classification_report\n",
    "import torch.nn.functional as F\n",
    "\n",
    "def get_predictions_and_probabilities(model, test_loader):\n",
    "    model.eval()\n",
    "    \n",
    "    all_probs = []\n",
    "    all_labels = []\n",
    "    \n",
    "    with torch.no_grad():\n",
    "        for batch_X, batch_attention_mask, batch_y in test_loader:\n",
    "            \n",
    "            outputs = model(input_ids=batch_X, attention_mask=batch_attention_mask)\n",
    "            logits = outputs.logits\n",
    "\n",
    "            \n",
    "            probs = F.softmax(logits, dim=1)\n",
    "            all_probs.extend(probs.cpu().numpy())\n",
    "\n",
    "            \n",
    "            predicted_labels = torch.argmax(logits, dim=1)\n",
    "            all_labels.extend(predicted_labels.cpu().numpy())\n",
    "    \n",
    "    return all_probs, all_labels\n",
    "\n",
    "pred_probs, pred_labels = get_predictions_and_probabilities(pretrained_tinybert, val_loader)\n",
    "\n",
    "print(\"Predicted probabilities for observation #1:\", pred_probs[0])\n",
    "print(\"First 10 Predicted labels:\", pred_labels[:10])\n",
    "print(\"First 10 True labels:     \", val_labels[:10])"
   ]
  },
  {
   "cell_type": "code",
   "execution_count": 102,
   "id": "28afd7c0-7ebc-467b-a134-5720a9a6b538",
   "metadata": {},
   "outputs": [
    {
     "name": "stdout",
     "output_type": "stream",
     "text": [
      "[[264  13]\n",
      " [ 22 194]]\n",
      "              precision    recall  f1-score   support\n",
      "\n",
      "           0       0.92      0.95      0.94       277\n",
      "           1       0.94      0.90      0.92       216\n",
      "\n",
      "    accuracy                           0.93       493\n",
      "   macro avg       0.93      0.93      0.93       493\n",
      "weighted avg       0.93      0.93      0.93       493\n",
      "\n"
     ]
    }
   ],
   "source": [
    "# evaluating the result with report and confusion matrix \n",
    "from sklearn.metrics import confusion_matrix, classification_report\n",
    "\n",
    "report = classification_report(val_labels, pred_labels)\n",
    "confusion_matrix = confusion_matrix(val_labels, pred_labels)\n",
    "\n",
    "print(confusion_matrix)\n",
    "print(report)\n"
   ]
  },
  {
   "cell_type": "code",
   "execution_count": 108,
   "id": "20a80b56-361e-4be3-b2f6-6a40737b00fb",
   "metadata": {},
   "outputs": [
    {
     "data": {
      "image/png": "[encoded data removed]",
      "text/plain": [
       "<Figure size 500x500 with 2 Axes>"
      ]
     },
     "metadata": {},
     "output_type": "display_data"
    }
   ],
   "source": [
    "import seaborn as sns\n",
    "plt.figure(figsize=(5, 5))\n",
    "sns.heatmap(confusion_matrix, annot=True, fmt='d', cmap='Blues', xticklabels=[\"Human\", \"AI\"], yticklabels=[\"Human\", \"AI\"])\n",
    "plt.xlabel(\"Predicted Labels\")\n",
    "plt.ylabel(\"True Labels\")\n",
    "plt.title(\"Confusion Matrix\")\n",
    "plt.show()"
   ]
  },
  {
   "cell_type": "code",
   "execution_count": 128,
   "id": "eca4abda-6996-4137-b91f-e4294a316b77",
   "metadata": {},
   "outputs": [
    {
     "name": "stdout",
     "output_type": "stream",
     "text": [
      "Full model saved successfully!\n"
     ]
    }
   ],
   "source": [
    "torch.save(pretrained_tinybert, \"pretrained_tinybert.pth\")\n",
    "\n",
    "print(\"Full model saved successfully!\")\n"
   ]
  }
 ],
 "metadata": {
  "kernelspec": {
   "display_name": "Python [conda env:base] *",
   "language": "python",
   "name": "conda-base-py"
  },
  "language_info": {
   "codemirror_mode": {
    "name": "ipython",
    "version": 3
   },
   "file_extension": ".py",
   "mimetype": "text/x-python",
   "name": "python",
   "nbconvert_exporter": "python",
   "pygments_lexer": "ipython3",
   "version": "3.12.7"
  }
 },
 "nbformat": 4,
 "nbformat_minor": 5
}
